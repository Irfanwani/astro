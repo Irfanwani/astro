{
 "cells": [
  {
   "cell_type": "code",
   "execution_count": 79,
   "metadata": {},
   "outputs": [
    {
     "name": "stdout",
     "output_type": "stream",
     "text": [
      "9.337289556608205\n",
      "9.337290e+07\n",
      "93372895566082.05\n"
     ]
    }
   ],
   "source": [
    "# import numpy, astropy and matplotlib for basic functionalities\n",
    "import numpy as np\n",
    "import astropy.units as u\n",
    "import matplotlib.pyplot as plt\n",
    "import pkg_resources\n",
    "\n",
    "# import agnpy classes\n",
    "from agnpy.spectra import BrokenPowerLaw\n",
    "from agnpy.fit import SynchrotronSelfComptonModel, load_gammapy_flux_points\n",
    "from agnpy.utils.plot import load_mpl_rc, sed_y_label\n",
    "\n",
    "load_mpl_rc()\n",
    "\n",
    "# import gammapy classes\n",
    "from gammapy.modeling.models import SkyModel\n",
    "from gammapy.modeling import Fit\n",
    "\n",
    "# from utils import vl, vsp, vsscp\n",
    "\n",
    "print(vl(0.1))\n",
    "\n",
    "print(\"{:e}\".format(vsp(20, 1, 1000, vl(0.1))))\n",
    "\n",
    "print(vsscp(20, 1, 1000, vl(0.1)))\n"
   ]
  },
  {
   "cell_type": "code",
   "execution_count": null,
   "metadata": {},
   "outputs": [],
   "source": [
    "# electron energy distribution\n",
    "n_e = BrokenPowerLaw(\n",
    "    k=1e-8 * u.Unit(\"cm-3\"),\n",
    "    p1=2.02,\n",
    "    p2=3.43,\n",
    "    gamma_b=1000,   #1e5\n",
    "    gamma_min=500,\n",
    "    gamma_max=1e6,\n",
    ")\n",
    "\n",
    "# initialise the Gammapy SpectralModel\n",
    "ssc_model = SynchrotronSelfComptonModel(n_e, backend=\"gammapy\")"
   ]
  },
  {
   "cell_type": "code",
   "execution_count": null,
   "metadata": {},
   "outputs": [],
   "source": [
    "ssc_model.parameters[\"z\"].value = 0.5 #0.0308\n",
    "ssc_model.parameters[\"delta_D\"].value = 10 #18 b=0.1   \n",
    "ssc_model.parameters[\"t_var\"].value = (1 * u.d).to_value(\"s\") \n",
    "ssc_model.parameters[\"t_var\"].frozen = True\n",
    "ssc_model.parameters[\"log10_B\"].value = -1 #-1.3"
   ]
  },
  {
   "cell_type": "code",
   "execution_count": null,
   "metadata": {},
   "outputs": [],
   "source": [
    "ssc_model.parameters.to_table()"
   ]
  },
  {
   "cell_type": "code",
   "execution_count": null,
   "metadata": {},
   "outputs": [],
   "source": [
    "ssc_model.spectral_parameters.to_table()\n"
   ]
  },
  {
   "cell_type": "code",
   "execution_count": null,
   "metadata": {},
   "outputs": [],
   "source": [
    "ssc_model.emission_region_parameters.to_table()\n"
   ]
  },
  {
   "cell_type": "code",
   "execution_count": null,
   "metadata": {},
   "outputs": [],
   "source": [
    "sed_path = pkg_resources.resource_filename(\"agnpy\", \"data/mwl_seds/Mrk421_2011.ecsv\")\n",
    "\n",
    "systematics_dict = {\n",
    "    \"Fermi\": 0.10,\n",
    "    \"GASP\": 0.05,\n",
    "    \"GRT\": 0.05,\n",
    "    \"MAGIC\": 0.30,\n",
    "    \"MITSuME\": 0.05,\n",
    "    \"Medicina\": 0.05,\n",
    "    \"Metsahovi\": 0.05,\n",
    "    \"NewMexicoSkies\": 0.05,\n",
    "    \"Noto\": 0.05,\n",
    "    \"OAGH\": 0.05,\n",
    "    \"OVRO\": 0.05,\n",
    "    \"RATAN\": 0.05,\n",
    "    \"ROVOR\": 0.05,\n",
    "    \"RXTE/PCA\": 0.10,\n",
    "    \"SMA\": 0.05,\n",
    "    \"Swift/BAT\": 0.10,\n",
    "    \"Swift/UVOT\": 0.05,\n",
    "    \"Swift/XRT\": 0.10,\n",
    "    \"VLBA(BK150)\": 0.05,\n",
    "    \"VLBA(BP143)\": 0.05,\n",
    "    \"VLBA(MOJAVE)\": 0.05,\n",
    "    \"VLBA_core(BP143)\": 0.05,\n",
    "    \"VLBA_core(MOJAVE)\": 0.05,\n",
    "    \"WIRO\": 0.05,\n",
    "}\n",
    "\n",
    "# define minimum and maximum energy to be used in the fit\n",
    "E_min = (1e11 * u.Hz).to(\"eV\", equivalencies=u.spectral())\n",
    "E_max = 100 * u.TeV\n",
    "\n",
    "datasets = load_gammapy_flux_points(sed_path, E_min, E_max, systematics_dict)"
   ]
  },
  {
   "cell_type": "code",
   "execution_count": null,
   "metadata": {},
   "outputs": [],
   "source": [
    "sky_model = SkyModel(spectral_model=ssc_model, name=\"Mrk421\")\n",
    "datasets.models = [sky_model]"
   ]
  },
  {
   "cell_type": "code",
   "execution_count": null,
   "metadata": {},
   "outputs": [],
   "source": [
    "fig, ax = plt.subplots(figsize=(8, 6))\n",
    "\n",
    "for dataset in datasets:\n",
    "    dataset.data.plot(ax=ax, label=dataset.name)\n",
    "\n",
    "\n",
    "xdata = list(np.concatenate([i.get_xdata() for i in ax.get_lines()]))\n",
    "\n",
    "\n",
    "ydata = [i.get_ydata() for i in ax.get_lines()]\n",
    "\n",
    "\n",
    "resultdata = list(np.concatenate(ydata))\n",
    "\n",
    "\n",
    "maxval = max(resultdata)\n",
    "\n",
    "print(maxval)\n",
    "\n",
    "xval = xdata[resultdata.index(maxval)]\n",
    "print(xval)\n",
    "\n",
    "\n",
    "ssc_model.plot(\n",
    "    ax=ax,\n",
    "    energy_bounds=[1e-6, 1e14] * u.eV,\n",
    "    energy_power=2,\n",
    "    label=\"SSC model\",\n",
    "    color=\"k\",\n",
    "    lw=1.6,\n",
    ")\n",
    "\n",
    "ax.set_ylabel(sed_y_label)\n",
    "ax.set_xlabel(r\"$E\\,/\\,{\\rm eV}$\")\n",
    "ax.set_xlim([1e-6, 1e14])\n",
    "ax.legend(ncol=4, fontsize=9)\n",
    "\n",
    "ax.annotate('Maxima', (xval, maxval), xytext=(9000, 4.10603e-10), arrowprops={'facecolor': 'orange', 'arrowstyle': 'fancy', 'linewidth': 0.5})\n",
    "\n",
    "plt.show()"
   ]
  },
  {
   "cell_type": "code",
   "execution_count": null,
   "metadata": {},
   "outputs": [],
   "source": [
    "%%time\n",
    "# define the fitter\n",
    "fitter = Fit()\n",
    "results = fitter.run(datasets)"
   ]
  },
  {
   "cell_type": "code",
   "execution_count": null,
   "metadata": {},
   "outputs": [],
   "source": [
    "fig, ax = plt.subplots(figsize=(8, 6))\n",
    "\n",
    "for dataset in datasets:\n",
    "    dataset.data.plot(ax=ax, label=dataset.name)\n",
    "\n",
    "ssc_model.plot(\n",
    "    ax=ax,\n",
    "    energy_bounds=[1e-6, 1e14] * u.eV,\n",
    "    energy_power=2,\n",
    "    label=\"model\",\n",
    "    color=\"k\",\n",
    "    lw=1.6,\n",
    ")\n",
    "\n",
    "# plot a line marking the minimum energy considered in the fit\n",
    "ax.axvline(E_min, ls=\"--\", color=\"gray\")\n",
    "\n",
    "plt.legend(ncol=4, fontsize=9)\n",
    "plt.xlim([1e-6, 1e14])\n",
    "plt.show()"
   ]
  },
  {
   "cell_type": "code",
   "execution_count": null,
   "metadata": {},
   "outputs": [],
   "source": [
    "# plot the covariance matrix\n",
    "ssc_model.covariance.plot_correlation()\n",
    "plt.grid(False)\n",
    "plt.show()"
   ]
  },
  {
   "cell_type": "code",
   "execution_count": null,
   "metadata": {},
   "outputs": [],
   "source": [
    "%%time\n",
    "# plot the profile for the normalisation of the electron energy distribution\n",
    "par = sky_model.spectral_model.log10_k\n",
    "par.scan_n_values = 50\n",
    "profile = fitter.stat_profile(datasets=datasets, parameter=par)\n",
    "\n",
    "print(par.name)\n",
    "\n",
    "print(profile)\n",
    "\n",
    "# to compute the delta TS\n",
    "total_stat = results.total_stat\n",
    "plt.plot(profile[f\"Mrk421.spectral.{par.name}_scan\"], profile[\"stat_scan\"] - total_stat) # profile[\"log10_k_scan\"]\n",
    "plt.ylabel(r\"$\\Delta(TS)$\", size=12)\n",
    "plt.xlabel(r\"$log_{10}(k_{\\rm e} / {\\rm cm}^{-3})$\", size=12)\n",
    "plt.show()"
   ]
  }
 ],
 "metadata": {
  "kernelspec": {
   "display_name": "venv",
   "language": "python",
   "name": "python3"
  },
  "language_info": {
   "codemirror_mode": {
    "name": "ipython",
    "version": 3
   },
   "file_extension": ".py",
   "mimetype": "text/x-python",
   "name": "python",
   "nbconvert_exporter": "python",
   "pygments_lexer": "ipython3",
   "version": "3.10.9"
  },
  "orig_nbformat": 4,
  "vscode": {
   "interpreter": {
    "hash": "e71fea003ebfa7dfea119aee11c70f2de6ad49654bf757657e0b89bdde60f754"
   }
  }
 },
 "nbformat": 4,
 "nbformat_minor": 2
}
